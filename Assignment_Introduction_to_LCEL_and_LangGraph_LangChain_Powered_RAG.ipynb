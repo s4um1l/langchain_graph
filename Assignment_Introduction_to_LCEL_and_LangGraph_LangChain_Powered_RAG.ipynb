{
  "cells": [
    {
      "cell_type": "markdown",
      "metadata": {
        "id": "47eTBHYNP4g1"
      },
      "source": [
        "# Introduction to LCEL and LangGraph: LangChain Powered RAG\n",
        "\n",
        "In the following notebook we're going to focus on learning how to navigate and build useful applications using LangChain, specifically LCEL, and how to integrate different APIs together into a coherent RAG application!\n",
        "\n",
        "In the notebook, you'll complete the following Tasks:\n",
        "\n",
        "- 🤝 Breakout Room #1:\n",
        "  1. Install required libraries\n",
        "  2. Set Environment Variables  \n",
        "  3. Initialize a Simple Chain using LCEL\n",
        "  4. Implement Naive RAG using LCEL\n",
        "  5. Implement Simple RAG using LCEL\n",
        "\n",
        "- 🤝 Breakout Room #2:\n",
        "  1. Install LangGraph\n",
        "  2. Understanding States and Nodes\n",
        "  3. Building a Basic Graph\n",
        "  4. Implementing a Simple RAG Graph\n",
        "  5. Extending the Graph with Complex Flows\n",
        "\n",
        "Let's get started!\n",
        "\n"
      ]
    },
    {
      "cell_type": "markdown",
      "metadata": {
        "id": "2ayVXHXHRE_t"
      },
      "source": [
        "# 🤝 Breakout Room #1"
      ]
    },
    {
      "cell_type": "markdown",
      "metadata": {
        "id": "aVHd6POM0JFN"
      },
      "source": [
        "## Installing Required Libraries\n",
        "\n",
        "One of the [key features](https://blog.langchain.dev/langchain-v02-leap-to-stability/) of LangChain v0.2.0 is the compartmentalization of the various LangChain ecosystem packages and added stability.\n",
        "\n",
        "Instead of one all encompassing Python package - LangChain has a `core` package and a number of additional supplementary packages.\n",
        "\n",
        "We'll start by grabbing all of our LangChain related packages!\n",
        "\n",
        "> NOTE: DO NOT RUN THIS CELL IF YOU ARE RUNNING THIS NOTEBOOK LOCALLY"
      ]
    },
    {
      "cell_type": "code",
      "execution_count": 1,
      "metadata": {
        "colab": {
          "base_uri": "https://localhost:8080/"
        },
        "id": "nCC2AR-Q0m0x",
        "outputId": "cbd49ab6-f2fb-420c-e64c-e656ad21524e"
      },
      "outputs": [
        {
          "name": "stdout",
          "output_type": "stream",
          "text": [
            "\u001b[?25l   \u001b[90m━━━━━━━━━━━━━━━━━━━━━━━━━━━━━━━━━━━━━━━━\u001b[0m \u001b[32m0.0/1.0 MB\u001b[0m \u001b[31m?\u001b[0m eta \u001b[36m-:--:--\u001b[0m\r\u001b[2K   \u001b[91m━━━━━━━━━━━━━\u001b[0m\u001b[91m╸\u001b[0m\u001b[90m━━━━━━━━━━━━━━━━━━━━━━━━━━\u001b[0m \u001b[32m0.3/1.0 MB\u001b[0m \u001b[31m11.4 MB/s\u001b[0m eta \u001b[36m0:00:01\u001b[0m\r\u001b[2K   \u001b[91m━━━━━━━━━━━━━━━━━━━━━━━━━━━━━━━━━━━━━━━\u001b[0m\u001b[91m╸\u001b[0m \u001b[32m1.0/1.0 MB\u001b[0m \u001b[31m18.6 MB/s\u001b[0m eta \u001b[36m0:00:01\u001b[0m\r\u001b[2K   \u001b[90m━━━━━━━━━━━━━━━━━━━━━━━━━━━━━━━━━━━━━━━━\u001b[0m \u001b[32m1.0/1.0 MB\u001b[0m \u001b[31m14.1 MB/s\u001b[0m eta \u001b[36m0:00:00\u001b[0m\n",
            "\u001b[?25h\u001b[?25l   \u001b[90m━━━━━━━━━━━━━━━━━━━━━━━━━━━━━━━━━━━━━━━━\u001b[0m \u001b[32m0.0/412.2 kB\u001b[0m \u001b[31m?\u001b[0m eta \u001b[36m-:--:--\u001b[0m\r\u001b[2K   \u001b[90m━━━━━━━━━━━━━━━━━━━━━━━━━━━━━━━━━━━━━━━━\u001b[0m \u001b[32m412.2/412.2 kB\u001b[0m \u001b[31m32.1 MB/s\u001b[0m eta \u001b[36m0:00:00\u001b[0m\n",
            "\u001b[2K   \u001b[90m━━━━━━━━━━━━━━━━━━━━━━━━━━━━━━━━━━━━━━━━\u001b[0m \u001b[32m2.5/2.5 MB\u001b[0m \u001b[31m67.6 MB/s\u001b[0m eta \u001b[36m0:00:00\u001b[0m\n",
            "\u001b[2K   \u001b[90m━━━━━━━━━━━━━━━━━━━━━━━━━━━━━━━━━━━━━━━━\u001b[0m \u001b[32m54.3/54.3 kB\u001b[0m \u001b[31m4.0 MB/s\u001b[0m eta \u001b[36m0:00:00\u001b[0m\n",
            "\u001b[2K   \u001b[90m━━━━━━━━━━━━━━━━━━━━━━━━━━━━━━━━━━━━━━━━\u001b[0m \u001b[32m1.2/1.2 MB\u001b[0m \u001b[31m46.4 MB/s\u001b[0m eta \u001b[36m0:00:00\u001b[0m\n",
            "\u001b[2K   \u001b[90m━━━━━━━━━━━━━━━━━━━━━━━━━━━━━━━━━━━━━━━━\u001b[0m \u001b[32m50.8/50.8 kB\u001b[0m \u001b[31m4.1 MB/s\u001b[0m eta \u001b[36m0:00:00\u001b[0m\n",
            "\u001b[?25h"
          ]
        }
      ],
      "source": [
        "#!pip install -qU langchain==0.3.15 langchain-core==0.3.31 langchain-community==0.3.15 langchain-openai==0.3.1 langchain-qdrant==0.2.0 qdrant-client==1.13.2 tiktoken pymupdf==1.25.2"
      ]
    },
    {
      "cell_type": "markdown",
      "metadata": {
        "id": "sl6wTp9C5qbY"
      },
      "source": [
        "## Set Environment Variables\n",
        "\n",
        "We'll be leveraging OpenAI's suite of APIs - so we'll set our `OPENAI_API_KEY` `env` variable here!"
      ]
    },
    {
      "cell_type": "code",
      "execution_count": 6,
      "metadata": {
        "colab": {
          "base_uri": "https://localhost:8080/"
        },
        "id": "7pKAfycq73wE",
        "outputId": "0b5702c2-028b-4bf4-ae8a-fffe243574a7"
      },
      "outputs": [],
      "source": [
        "import os\n",
        "import getpass\n",
        "\n",
        "os.environ[\"OPENAI_API_KEY\"] = getpass.getpass(\"OpenAI API Key:\")"
      ]
    },
    {
      "cell_type": "markdown",
      "metadata": {
        "id": "Q_xp54wIA56_"
      },
      "source": [
        "## Initialize a Simple Chain using LCEL\n",
        "\n",
        "The first thing we'll do is familiarize ourselves with LCEL and the specific ins and outs of how we can use it!"
      ]
    },
    {
      "cell_type": "markdown",
      "metadata": {
        "id": "SyGdhbS6SkD1"
      },
      "source": [
        "### LLM Orchestration Tool (LangChain)\n",
        "\n",
        "Let's dive right into [LangChain](https://www.langchain.com/)!\n",
        "\n",
        "The first thing we want to do is create an object that lets us access OpenAI's `gpt-4o` model."
      ]
    },
    {
      "cell_type": "code",
      "execution_count": 7,
      "metadata": {
        "id": "3Uj6SorxMj8e"
      },
      "outputs": [],
      "source": [
        "from langchain_openai import ChatOpenAI\n",
        "\n",
        "openai_chat_model = ChatOpenAI(model=\"gpt-4o-mini\")"
      ]
    },
    {
      "cell_type": "markdown",
      "metadata": {
        "id": "HsmiieEh_Ye-"
      },
      "source": [
        "#### ❓ Question #1:\n",
        "\n",
        "What other models could we use, and how would the above code change?\n",
        "\n",
        "> HINT: Check out [this page](https://platform.openai.com/docs/models) to find the answer!"
      ]
    },
    {
      "cell_type": "markdown",
      "metadata": {},
      "source": [
        "## Answer\n",
        "If you are using Azure we could also do something like \n",
        "```\n",
        "from langchain_openai import AzureChatOpenAI\n",
        "\n",
        "```\n",
        "We could also switch model to any chat models gpt-4o, gpt-40-mini and maybe also gpt-4.1\n",
        "```\n",
        "ChatOpenAI(model=\"gpt-4o\")\n",
        "```"
      ]
    },
    {
      "cell_type": "markdown",
      "metadata": {
        "id": "9nU8SlHfH41T"
      },
      "source": [
        "### Prompt Template"
      ]
    },
    {
      "cell_type": "markdown",
      "metadata": {
        "id": "dcMKLZWBVYm7"
      },
      "source": [
        "Now, we'll set up a prompt template - more specifically a `ChatPromptTemplate`. This will let us build a prompt we can modify when we call our LLM!"
      ]
    },
    {
      "cell_type": "code",
      "execution_count": 8,
      "metadata": {
        "id": "Z770j4zPS3o5"
      },
      "outputs": [],
      "source": [
        "from langchain_core.prompts import ChatPromptTemplate\n",
        "\n",
        "system_template = \"You are a legendary and mythical Wizard. You speak in riddles and make obscure and pun-filled references to exotic cheeses.\"\n",
        "human_template = \"{content}\"\n",
        "\n",
        "chat_prompt = ChatPromptTemplate.from_messages([\n",
        "    (\"system\", system_template),\n",
        "    (\"human\", human_template)\n",
        "])"
      ]
    },
    {
      "cell_type": "markdown",
      "metadata": {
        "id": "eGku_c2VVyd_"
      },
      "source": [
        "### Our First Chain\n",
        "\n",
        "Now we can set up our first chain!\n",
        "\n",
        "A chain is simply two components that feed directly into eachother in a sequential fashion!\n",
        "\n",
        "You'll notice that we're using the pipe operator `|` to connect our `chat_prompt` to our `llm`.\n",
        "\n",
        "This is a simplified method of creating chains and it leverages the LangChain Expression Language, or LCEL.\n",
        "\n",
        "You can read more about it [here](https://python.langchain.com/v0.2/docs/concepts/#langchain-expression-language-lcel), but there a few features we should be aware of out of the box (taken directly from LangChain's documentation linked above):\n",
        "\n",
        "- **Async, Batch, and Streaming Support** Any chain constructed this way will automatically have full sync, async, batch, and streaming support. This makes it easy to prototype a chain in a Jupyter notebook using the sync interface, and then expose it as an async streaming interface.\n",
        "\n",
        "- **Fallbacks** The non-determinism of LLMs makes it important to be able to handle errors gracefully. With LCEL you can easily attach fallbacks to any chain.\n",
        "\n",
        "- **Parallelism** Since LLM applications involve (sometimes long) API calls, it often becomes important to run things in parallel. With LCEL syntax, any components that can be run in parallel automatically are.\n",
        "\n",
        "In the following code cell we have two components:\n",
        "\n",
        "- `chat_prompt`, which is a formattable `ChatPromptTemplate` that contains a system message and a human message.\n",
        "- `openai_chat_model`, which is a LangChain Runnable wrapped OpenAI client.\n",
        "\n",
        "We'd like to be able to pass our own `content` (as found in our `human_template`) and then have the resulting message pair sent to our model and responded to!"
      ]
    },
    {
      "cell_type": "code",
      "execution_count": 9,
      "metadata": {
        "id": "RcJyqOiwVt04"
      },
      "outputs": [],
      "source": [
        "chain = chat_prompt | openai_chat_model"
      ]
    },
    {
      "cell_type": "markdown",
      "metadata": {
        "id": "QV_kHCjlL_01"
      },
      "source": [
        "Notice the pattern here:\n",
        "\n",
        "We invoke our chain with the `dict` `{\"content\" : \"Hello world!\"}`.\n",
        "\n",
        "It enters our chain:\n",
        "\n",
        "`{\"content\" : \"Hello world!\"}` -> `invoke()` -> `chat_prompt`\n",
        "\n",
        "Our `chat_prompt` returns a `PromptValue`, which is the formatted prompt. We then \"pipe\" the output of our `chat_prompt` into our `llm`.\n",
        "\n",
        "`PromptValue` -> `|` -> `llm`\n",
        "\n",
        "Our `llm` then takes the list of messages and provides an output which is return as a `str`!\n",
        "\n",
        "\n",
        "\n",
        "\n",
        "\n"
      ]
    },
    {
      "cell_type": "code",
      "execution_count": 10,
      "metadata": {
        "colab": {
          "base_uri": "https://localhost:8080/"
        },
        "id": "0cqr2QuMtIjn",
        "outputId": "acc3f8bc-106a-4fd6-9b4e-6caddc0a94ca"
      },
      "outputs": [
        {
          "name": "stdout",
          "output_type": "stream",
          "text": [
            "content='Ah, greetings, seeker of wisdom! In a realm where cheddar dreams and gouda whispers intertwine, what riddles do you bring to the table of curds and lore? Perhaps a tale of Brie-lliant adventures or a quest for the elusive Roquefort of insight? Speak, and let us melt the fog of ignorance! 🧙\\u200d♂️🧀' additional_kwargs={'refusal': None} response_metadata={'token_usage': {'completion_tokens': 79, 'prompt_tokens': 38, 'total_tokens': 117, 'completion_tokens_details': {'accepted_prediction_tokens': 0, 'audio_tokens': 0, 'reasoning_tokens': 0, 'rejected_prediction_tokens': 0}, 'prompt_tokens_details': {'audio_tokens': 0, 'cached_tokens': 0}}, 'model_name': 'gpt-4o-mini-2024-07-18', 'system_fingerprint': 'fp_f7d56a8a2c', 'finish_reason': 'stop', 'logprobs': None} id='run-8834fa93-2961-4477-a455-dae198b8f7f5-0' usage_metadata={'input_tokens': 38, 'output_tokens': 79, 'total_tokens': 117, 'input_token_details': {'audio': 0, 'cache_read': 0}, 'output_token_details': {'audio': 0, 'reasoning': 0}}\n"
          ]
        }
      ],
      "source": [
        "print(chain.invoke({\"content\": \"Hello world!\"}))"
      ]
    },
    {
      "cell_type": "markdown",
      "metadata": {
        "id": "2znL48ECNteM"
      },
      "source": [
        "Let's try it out with a different prompt!"
      ]
    },
    {
      "cell_type": "code",
      "execution_count": 11,
      "metadata": {
        "colab": {
          "base_uri": "https://localhost:8080/"
        },
        "id": "mjiTNeYXUCAB",
        "outputId": "b5d2bb5b-487f-4a3e-8673-5f31987a56f5"
      },
      "outputs": [
        {
          "data": {
            "text/plain": [
              "AIMessage(content=\"Ah, seeker of the code's elusive essence, listen well to the words of a cheese-savvy sage!\\n\\nTo sharpen thy skills in the Pythonic arts, heed these curdled truths, as if they were aged gouda, rich with flavor:\\n\\n1. **Practice with Purpose**: Delve deep into the dairy depths of projects! Create tools that echo the melty charm of fondue, where every string and list comes together in harmony. Just as each wheel of cheese must be refined, so too must your code be crafted with intention.\\n\\n2. **Script Serendipity**: Just as the subtle tang of Roquefort entices the palate, so too must you explore the libraries enchanting the Python realm. Discover the magic of NumPy, pandas, and Flask as you traverse the landscape, for they will amplify your coding prowess like fine Brie upon a cracker!\\n\\n3. **Embrace the Community**: Join the gatherings of the Pythonistas, both online and in the realm of meat and cheese platters! Engage in discussions, share your camembert-inspired queries, and feast upon the wisdom of the seasoned. The bonds you forge will enhance your journey, akin to the perfect pairing of wine and aged cheddar.\\n\\n4. **Debugging Delight**: Fear not the errors that may plague your path! They are but mischiefs akin to a misformed cheese wheel. Embrace them, decode their riddles, and learn the difference between a 'SyntaxError' and 'TypeError' as you would between a sheep’s milk and cow’s milk cheese — for each error has a lesson to impart.\\n\\n5. **Documentation Dairies**: Read the ancient scrolls of documentation, much like one would savor the rich history of a Stilton. The spells you learn within will allow you to conjure solutions with grace, ensuring that your spells are strong and your methods are well-formed.\\n\\nWith these riddles I leave you, dear apprentice! Go forth, and may your skills be as well-rounded as a wheel of aged pecorino, and may you find the joy of coding as intoxicating as the finest cheese platter upon the table of knowledge! 🧀✨\", additional_kwargs={'refusal': None}, response_metadata={'token_usage': {'completion_tokens': 446, 'prompt_tokens': 50, 'total_tokens': 496, 'completion_tokens_details': {'accepted_prediction_tokens': 0, 'audio_tokens': 0, 'reasoning_tokens': 0, 'rejected_prediction_tokens': 0}, 'prompt_tokens_details': {'audio_tokens': 0, 'cached_tokens': 0}}, 'model_name': 'gpt-4o-mini-2024-07-18', 'system_fingerprint': 'fp_f7d56a8a2c', 'finish_reason': 'stop', 'logprobs': None}, id='run-84459f82-26ff-40a0-93d2-178bcceff2ee-0', usage_metadata={'input_tokens': 50, 'output_tokens': 446, 'total_tokens': 496, 'input_token_details': {'audio': 0, 'cache_read': 0}, 'output_token_details': {'audio': 0, 'reasoning': 0}})"
            ]
          },
          "execution_count": 11,
          "metadata": {},
          "output_type": "execute_result"
        }
      ],
      "source": [
        "chain.invoke({\"content\" : \"Could I please have some advice on how to become a better Python Programmer?\"})"
      ]
    },
    {
      "cell_type": "markdown",
      "metadata": {
        "id": "THcMz8YAWsjP"
      },
      "source": [
        "Notice how we specifically referenced our `content` format option!\n",
        "\n",
        "Now that we have the basics set up - let's see what we mean by \"Retrieval Augmented\" Generation."
      ]
    },
    {
      "cell_type": "markdown",
      "metadata": {
        "id": "P7o8aXbhRAPe"
      },
      "source": [
        "## Naive RAG - Manually adding context through the Prompt Template\n",
        "\n",
        "Let's look at how our model performs at a simple task - defining what LangChain is!\n",
        "\n",
        "We'll redo some of our previous work to change the `system_template` to be less...verbose."
      ]
    },
    {
      "cell_type": "code",
      "execution_count": 12,
      "metadata": {
        "colab": {
          "base_uri": "https://localhost:8080/"
        },
        "id": "Qu_Uox_pPKaf",
        "outputId": "57ca2111-c0c6-47c3-968d-978828901ec3"
      },
      "outputs": [
        {
          "name": "stdout",
          "output_type": "stream",
          "text": [
            "content='As of my last knowledge update in October 2023, \"LangGraph\" does not appear to be a widely recognized term or concept in the fields of technology, linguistics, or graph theory. However, it is possible that the name could refer to a specific project, framework, or application that has emerged more recently or is not commonly known.\\n\\nIf you have any specific context about what LangGraph refers to—such as its application area, whether it relates to language processing, graph databases, or something else—please provide that information, and I can help you better understand it. Alternatively, it could also be beneficial to check more recent sources or announcements for the latest developments regarding LangGraph.' additional_kwargs={'refusal': None} response_metadata={'token_usage': {'completion_tokens': 140, 'prompt_tokens': 22, 'total_tokens': 162, 'completion_tokens_details': {'accepted_prediction_tokens': 0, 'audio_tokens': 0, 'reasoning_tokens': 0, 'rejected_prediction_tokens': 0}, 'prompt_tokens_details': {'audio_tokens': 0, 'cached_tokens': 0}}, 'model_name': 'gpt-4o-mini-2024-07-18', 'system_fingerprint': 'fp_44added55e', 'finish_reason': 'stop', 'logprobs': None} id='run-1a11a149-f248-4a33-a108-3ab9ca93ccc3-0' usage_metadata={'input_tokens': 22, 'output_tokens': 140, 'total_tokens': 162, 'input_token_details': {'audio': 0, 'cache_read': 0}, 'output_token_details': {'audio': 0, 'reasoning': 0}}\n"
          ]
        }
      ],
      "source": [
        "system_template = \"You are a helpful assistant.\"\n",
        "human_template = \"{content}\"\n",
        "\n",
        "chat_prompt = ChatPromptTemplate.from_messages([\n",
        "    (\"system\", system_template),\n",
        "    (\"human\", human_template)\n",
        "])\n",
        "\n",
        "chat_chain = chat_prompt | openai_chat_model ### LCEL Chain!\n",
        "\n",
        "print(chat_chain.invoke({\"content\" : \"Please define LangGraph.\"}))"
      ]
    },
    {
      "cell_type": "markdown",
      "metadata": {
        "id": "18KXqGI4XbMb"
      },
      "source": [
        "Well, that's not very good - is it!\n",
        "\n",
        "The issue at play here is that our model was not trained on the idea of \"LangChain\", and so it's left with nothing but a guess - definitely not what we want the answer to be!\n",
        "\n",
        "Let's ask another simple LangChain question!"
      ]
    },
    {
      "cell_type": "code",
      "execution_count": 13,
      "metadata": {
        "colab": {
          "base_uri": "https://localhost:8080/"
        },
        "id": "pRG5LwYoXnsr",
        "outputId": "11185027-a453-43d9-895d-19c654524081"
      },
      "outputs": [
        {
          "name": "stdout",
          "output_type": "stream",
          "text": [
            "content=\"LangChain Expression Language (LECL) is a feature of the LangChain framework designed for building applications that utilize language models. LECL allows users to create complex data processing and querying expressions in a way that is more intuitive and powerful compared to traditional programming approaches.\\n\\nHere are some key aspects of LECL:\\n\\n1. **Declarative Syntax**: LECL enables users to express their intentions declaratively. This means that users can specify what they want to achieve without needing to outline every detail of how to accomplish it. This can make code more readable and easier to maintain.\\n\\n2. **Integration with Language Models**: LECL is designed to work seamlessly with various language models. It allows developers to construct expressions that can leverage the capabilities of these models for tasks like text generation, summarization, data extraction, and more.\\n\\n3. **Data Processing**: LECL can be used for processing structured and unstructured data, facilitating tasks such as filtering, mapping, and transforming data outputs from language models.\\n\\n4. **Custom Functions**: Users can define custom functions within LECL to extend its capabilities, allowing for tailored solutions that fit specific use cases.\\n\\n5. **Use Cases**: LECL can be employed in various applications, including chatbots, data analysis tools, and other forms of interactive applications that require natural language understanding and generation.\\n\\nOverall, LECL is part of LangChain's commitment to making it easier for developers to build applications harnessing the power of language models, providing a powerful toolset for expression and interaction with these models.\" additional_kwargs={'refusal': None} response_metadata={'token_usage': {'completion_tokens': 310, 'prompt_tokens': 27, 'total_tokens': 337, 'completion_tokens_details': {'accepted_prediction_tokens': 0, 'audio_tokens': 0, 'reasoning_tokens': 0, 'rejected_prediction_tokens': 0}, 'prompt_tokens_details': {'audio_tokens': 0, 'cached_tokens': 0}}, 'model_name': 'gpt-4o-mini-2024-07-18', 'system_fingerprint': 'fp_80cf447eee', 'finish_reason': 'stop', 'logprobs': None} id='run-0e196158-09de-41f4-bcad-6c818c53f134-0' usage_metadata={'input_tokens': 27, 'output_tokens': 310, 'total_tokens': 337, 'input_token_details': {'audio': 0, 'cache_read': 0}, 'output_token_details': {'audio': 0, 'reasoning': 0}}\n"
          ]
        }
      ],
      "source": [
        "print(chat_chain.invoke({\"content\" : \"What is LangChain Expression Language (LECL)?\"}))"
      ]
    },
    {
      "cell_type": "markdown",
      "metadata": {
        "id": "63pr0fgYXxC3"
      },
      "source": [
        "While it provides a confident response, that response is entirely ficticious! Not a great look, OpenAI!\n",
        "\n",
        "However, let's see what happens when we rework our prompts - and we add the content from the docs to our prompt as context."
      ]
    },
    {
      "cell_type": "code",
      "execution_count": 14,
      "metadata": {
        "colab": {
          "base_uri": "https://localhost:8080/"
        },
        "id": "Fgr25HjgYHwh",
        "outputId": "40e5e551-345e-4c43-c47b-2269d51a0cdd"
      },
      "outputs": [
        {
          "name": "stdout",
          "output_type": "stream",
          "text": [
            "content='LangChain Expression Language (LCEL) is a declarative way to compose chains together in a way that offers several advantages over traditional coding methods. It supports asynchronous, batch, and streaming operations, allowing for easy prototyping and exposure of chains in different interfaces. LCEL also allows for graceful error handling through fallbacks, enables parallel execution of components to improve efficiency, and integrates seamlessly with LangSmith for enhanced observability and debuggability as chains grow in complexity.' additional_kwargs={'refusal': None} response_metadata={'token_usage': {'completion_tokens': 94, 'prompt_tokens': 282, 'total_tokens': 376, 'completion_tokens_details': {'accepted_prediction_tokens': 0, 'audio_tokens': 0, 'reasoning_tokens': 0, 'rejected_prediction_tokens': 0}, 'prompt_tokens_details': {'audio_tokens': 0, 'cached_tokens': 0}}, 'model_name': 'gpt-4o-mini-2024-07-18', 'system_fingerprint': 'fp_44added55e', 'finish_reason': 'stop', 'logprobs': None} id='run-12175fad-ae40-47f4-a594-c830f62a2534-0' usage_metadata={'input_tokens': 282, 'output_tokens': 94, 'total_tokens': 376, 'input_token_details': {'audio': 0, 'cache_read': 0}, 'output_token_details': {'audio': 0, 'reasoning': 0}}\n"
          ]
        }
      ],
      "source": [
        "HUMAN_TEMPLATE = \"\"\"\n",
        "#CONTEXT:\n",
        "{context}\n",
        "\n",
        "QUERY:\n",
        "{query}\n",
        "\n",
        "Use the provide context to answer the provided user query. Only use the provided context to answer the query. If you do not know the answer, or it's not contained in the provided context response with \"I don't know\"\n",
        "\"\"\"\n",
        "\n",
        "CONTEXT = \"\"\"\n",
        "LangChain Expression Language or LCEL is a declarative way to easily compose chains together. There are several benefits to writing chains in this manner (as opposed to writing normal code):\n",
        "\n",
        "Async, Batch, and Streaming Support Any chain constructed this way will automatically have full sync, async, batch, and streaming support. This makes it easy to prototype a chain in a Jupyter notebook using the sync interface, and then expose it as an async streaming interface.\n",
        "\n",
        "Fallbacks The non-determinism of LLMs makes it important to be able to handle errors gracefully. With LCEL you can easily attach fallbacks to any chain.\n",
        "\n",
        "Parallelism Since LLM applications involve (sometimes long) API calls, it often becomes important to run things in parallel. With LCEL syntax, any components that can be run in parallel automatically are.\n",
        "\n",
        "Seamless LangSmith Tracing Integration As your chains get more and more complex, it becomes increasingly important to understand what exactly is happening at every step. With LCEL, all steps are automatically logged to LangSmith for maximal observability and debuggability.\n",
        "\"\"\"\n",
        "\n",
        "chat_prompt = ChatPromptTemplate.from_messages([\n",
        "    (\"human\", HUMAN_TEMPLATE)\n",
        "])\n",
        "\n",
        "chat_chain = chat_prompt | openai_chat_model\n",
        "\n",
        "print(chat_chain.invoke({\"query\" : \"What is LangChain Expression Language?\", \"context\" : CONTEXT}))"
      ]
    },
    {
      "cell_type": "markdown",
      "metadata": {
        "id": "ppQdtCedY7C4"
      },
      "source": [
        "You'll notice that the response is much better this time. Not only does it answer the question well - but there's no trace of confabulation (hallucination) at all!\n",
        "\n",
        "> NOTE: While RAG is an effective strategy to *help* ground LLMs, it is not nearly 100% effective. You will still need to ensure your responses are factual through some other processes\n",
        "\n",
        "That, in essence, is the idea of RAG. We provide the model with context to answer our queries - and rely on it to translate the potentially lengthy and difficult to parse context into a natural language answer!\n",
        "\n",
        "However, manually providing context is not scalable - and doesn't really offer any benefit.\n",
        "\n",
        "Enter: Retrieval Pipelines."
      ]
    },
    {
      "cell_type": "markdown",
      "metadata": {
        "id": "DFmdARsVBJUq"
      },
      "source": [
        "## Implement Naive RAG using LCEL\n",
        "\n",
        "Now we can make a naive RAG application that will help us bridge the gap between our Pythonic implementation and a fully LangChain powered solution!"
      ]
    },
    {
      "cell_type": "markdown",
      "metadata": {
        "id": "n4AozVoEZveK"
      },
      "source": [
        "## Putting the R in RAG: Retrieval 101\n",
        "\n",
        "In order to make our RAG system useful, we need a way to provide context that is most likely to answer our user's query to the LLM as additional context.\n",
        "\n",
        "Let's tackle an immediate problem first: The Context Window.\n",
        "\n",
        "All (most) LLMs have a limited context window which is typically measured in tokens. This window is an upper bound of how much stuff we can stuff in the model's input at a time.\n",
        "\n",
        "Let's say we want to work off of a relatively large piece of source data - like the Ultimate Hitchhiker's Guide to the Galaxy. All 898 pages of it!\n",
        "\n",
        "> NOTE: It is recommended you do not run the following cells, they are purely for demonstrative purposes."
      ]
    },
    {
      "cell_type": "code",
      "execution_count": 11,
      "metadata": {
        "id": "PbXBxffibeyp"
      },
      "outputs": [],
      "source": [
        "context = \"\"\"\n",
        "EVERY HITCHHIKER'S GUIDE BOOK\n",
        "\"\"\""
      ]
    },
    {
      "cell_type": "markdown",
      "metadata": {
        "id": "EZvgFuaXcHFT"
      },
      "source": [
        "We can leverage our tokenizer to count the number of tokens for us!"
      ]
    },
    {
      "cell_type": "code",
      "execution_count": 12,
      "metadata": {
        "id": "HaKPOdSjbifn"
      },
      "outputs": [],
      "source": [
        "import tiktoken\n",
        "\n",
        "enc = tiktoken.encoding_for_model(\"gpt-4o\")"
      ]
    },
    {
      "cell_type": "code",
      "execution_count": 13,
      "metadata": {
        "colab": {
          "base_uri": "https://localhost:8080/"
        },
        "id": "NtDiSMxpE4Xi",
        "outputId": "886fd517-9128-45ca-9fbd-5152ae7f146b"
      },
      "outputs": [
        {
          "data": {
            "text/plain": [
              "12"
            ]
          },
          "execution_count": 13,
          "metadata": {},
          "output_type": "execute_result"
        }
      ],
      "source": [
        "len(enc.encode(context))"
      ]
    },
    {
      "cell_type": "markdown",
      "metadata": {
        "id": "5oUuZpAicLdm"
      },
      "source": [
        "The full set comes in at a whopping *636,144* tokens.\n",
        "\n",
        "So, we have too much context. What can we do?\n",
        "\n",
        "Well, the first thing that might enter your mind is: \"Use a model with more context window\", and we could definitely do that! However, even `gpt-4-128k` wouldn't be able to fit that whole text in the context window at once.\n",
        "\n",
        "So, we can try splitting our document up into little pieces - that way, we can avoid providing too much context.\n",
        "\n",
        "We have another problem now.\n",
        "\n",
        "If we split our document up into little pieces, and we can't put all of them in the prompt. How do we decide which to include in the prompt?!\n",
        "\n",
        "> NOTE: Content splitting/chunking strategies are an active area of research and iterative developement. There is no \"one size fits all\" approach to chunking/splitting at this moment. Use your best judgement to determine chunking strategies!\n",
        "\n",
        "In order to conceptualize the following processes - let's create a toy context set!"
      ]
    },
    {
      "cell_type": "markdown",
      "metadata": {
        "id": "UPCiOPwUfbqn"
      },
      "source": [
        "### TextSplitting aka Chunking\n",
        "\n",
        "We'll use the `RecursiveCharacterTextSplitter` to create our toy example.\n",
        "\n",
        "It will split based on the following rules:\n",
        "\n",
        "- Each chunk has a maximum size of 100 tokens\n",
        "- It will try and split first on the `\\n\\n` character, then on the `\\n`, then on the `<SPACE>` character, and finally it will split on individual tokens.\n",
        "\n",
        "Let's implement it and see the results!"
      ]
    },
    {
      "cell_type": "code",
      "execution_count": 15,
      "metadata": {
        "id": "nLW9AfDKfVHn"
      },
      "outputs": [],
      "source": [
        "import tiktoken\n",
        "from langchain.text_splitter import RecursiveCharacterTextSplitter\n",
        "\n",
        "def tiktoken_len(text):\n",
        "    tokens = tiktoken.encoding_for_model(\"gpt-4o-mini\").encode(\n",
        "        text,\n",
        "    )\n",
        "    return len(tokens)\n",
        "\n",
        "text_splitter = RecursiveCharacterTextSplitter(\n",
        "    chunk_size = 100,\n",
        "    chunk_overlap = 0,\n",
        "    length_function = tiktoken_len,\n",
        ")"
      ]
    },
    {
      "cell_type": "code",
      "execution_count": 16,
      "metadata": {
        "id": "nPYPBe2ngT9N"
      },
      "outputs": [],
      "source": [
        "chunks = text_splitter.split_text(CONTEXT)"
      ]
    },
    {
      "cell_type": "code",
      "execution_count": 17,
      "metadata": {
        "colab": {
          "base_uri": "https://localhost:8080/"
        },
        "id": "n_RGVlTihaQX",
        "outputId": "7ab8ae25-3b7f-4961-8d4d-9703580927d4"
      },
      "outputs": [
        {
          "data": {
            "text/plain": [
              "3"
            ]
          },
          "execution_count": 17,
          "metadata": {},
          "output_type": "execute_result"
        }
      ],
      "source": [
        "len(chunks)"
      ]
    },
    {
      "cell_type": "code",
      "execution_count": 18,
      "metadata": {
        "colab": {
          "base_uri": "https://localhost:8080/"
        },
        "id": "rTYny2xchS_Z",
        "outputId": "bbce26a0-5400-4ea7-bf02-3260de30137f"
      },
      "outputs": [
        {
          "name": "stdout",
          "output_type": "stream",
          "text": [
            "LangChain Expression Language or LCEL is a declarative way to easily compose chains together. There are several benefits to writing chains in this manner (as opposed to writing normal code):\n",
            "\n",
            "Async, Batch, and Streaming Support Any chain constructed this way will automatically have full sync, async, batch, and streaming support. This makes it easy to prototype a chain in a Jupyter notebook using the sync interface, and then expose it as an async streaming interface.\n",
            "----\n",
            "Fallbacks The non-determinism of LLMs makes it important to be able to handle errors gracefully. With LCEL you can easily attach fallbacks to any chain.\n",
            "\n",
            "Parallelism Since LLM applications involve (sometimes long) API calls, it often becomes important to run things in parallel. With LCEL syntax, any components that can be run in parallel automatically are.\n",
            "----\n",
            "Seamless LangSmith Tracing Integration As your chains get more and more complex, it becomes increasingly important to understand what exactly is happening at every step. With LCEL, all steps are automatically logged to LangSmith for maximal observability and debuggability.\n",
            "----\n"
          ]
        }
      ],
      "source": [
        "for chunk in chunks:\n",
        "  print(chunk)\n",
        "  print(\"----\")"
      ]
    },
    {
      "cell_type": "markdown",
      "metadata": {
        "id": "98hOgu5Yhefv"
      },
      "source": [
        "As is shown in our result, we've split each section into 100 token chunks - cleanly separated by `\\n\\n` characters!"
      ]
    },
    {
      "cell_type": "markdown",
      "metadata": {
        "id": "3PTiJ2utMpqq"
      },
      "source": [
        "####🏗️ Activity #1:\n",
        "\n",
        "While there's nothing specifically wrong with the chunking method used above - it is a naive approach that is not sensitive to specific data formats.\n",
        "\n",
        "Brainstorm some ideas that would split large single documents into smaller documents.\n",
        "\n",
        "1. `Semantic chunking`: Split documents based on semantic meaning rather than character count. This involves using embeddings to identify natural topic boundaries or using NLP techniques to detect when the subject or topic changes. This preserves the coherence of related information within chunks.\n",
        "\n",
        "2. `Structure-aware chunking`: Parse the document structure (e.g., headers, sections, paragraphs) and split according to the document's inherent organization. For HTML, split by div/section tags; for Markdown, split by headers; for academic papers, split by abstract/introduction/methods/results/discussion sections.\n",
        "\n",
        "3. `Sliding window with overlap`: Instead of fixed chunks with minimal overlap, use larger overlaps (e.g., 50%) between chunks to maintain context between adjacent segments. This ensures that related information split across chunk boundaries isn't lost, improving retrieval quality for queries that might reference concepts spanning these boundaries."
      ]
    },
    {
      "cell_type": "markdown",
      "metadata": {
        "id": "rj18Rjafhp7d"
      },
      "source": [
        "## Embeddings and Dense Vector Search\n",
        "\n",
        "Now that we have our individual chunks, we need a system to correctly select the relevant pieces of information to answer our query.\n",
        "\n",
        "This sounds like a perfect job for embeddings!\n",
        "\n",
        "We'll be using OpenAI's `text-embedding-3` model as our embedding model today!\n",
        "\n",
        "Let's load it up through LangChain."
      ]
    },
    {
      "cell_type": "code",
      "execution_count": 19,
      "metadata": {
        "id": "quNjOLWspOVN"
      },
      "outputs": [],
      "source": [
        "from langchain_openai.embeddings import OpenAIEmbeddings\n",
        "\n",
        "embedding_model = OpenAIEmbeddings(model=\"text-embedding-3-small\")"
      ]
    },
    {
      "cell_type": "code",
      "execution_count": 20,
      "metadata": {},
      "outputs": [
        {
          "name": "stdout",
          "output_type": "stream",
          "text": [
            "client=<openai.resources.embeddings.Embeddings object at 0x116e7be90> async_client=<openai.resources.embeddings.AsyncEmbeddings object at 0x116e86b10> model='text-embedding-3-small' dimensions=None deployment='text-embedding-ada-002' openai_api_version=None openai_api_base=None openai_api_type=None openai_proxy=None embedding_ctx_length=8191 openai_api_key=SecretStr('**********') openai_organization=None allowed_special=None disallowed_special=None chunk_size=1000 max_retries=2 request_timeout=None headers=None tiktoken_enabled=True tiktoken_model_name=None show_progress_bar=False model_kwargs={} skip_empty=False default_headers=None default_query=None retry_min_seconds=4 retry_max_seconds=20 http_client=None http_async_client=None check_embedding_ctx_length=True\n"
          ]
        }
      ],
      "source": [
        "print(embedding_model)"
      ]
    },
    {
      "cell_type": "markdown",
      "metadata": {
        "id": "dsGZ92hm9IeX"
      },
      "source": [
        "#### ❓ Question #2:\n",
        "\n",
        "What is the embedding dimension, given that we're using `text-embedding-3-small`?\n",
        "\n",
        "You will need to fill the next cell out correctly with your embedding dimension for the rest of the notebook to run.\n",
        "\n",
        "> HINT: Check out the [docs](https://platform.openai.com/docs/guides/embeddings) to help you answer this question."
      ]
    },
    {
      "cell_type": "code",
      "execution_count": 21,
      "metadata": {
        "id": "uQu1rCHw-YGF"
      },
      "outputs": [],
      "source": [
        "embedding_dim =  1536"
      ]
    },
    {
      "cell_type": "markdown",
      "metadata": {
        "id": "ByK-zb0FsnqR"
      },
      "source": [
        "### Using A Vector Database - Intoduction to Qdrant\n",
        "\n",
        "Up to this point, we've been using a dictionary to hold our embeddings - typically, we'll want to use a more robust strategy.\n",
        "\n",
        "In this bootcamp - we'll be focusing on leveraging [Qdrant's vector database](https://qdrant.tech/qdrant-vector-database/).\n",
        "\n",
        "Let's take a look at how we set-up Qdrant!\n",
        "\n",
        "> NOTE: We'll be spending a lot of time learning about Qdrant throughout the remainder of our time together - but for an initial primer, please check out [this resource](https://qdrant.tech/articles/what-is-a-vector-database/)\n",
        "\n",
        "We are going to be using an \"in-memory\" Qdrant client, which means that our vectors will be held in our system's memory (RAM) - this is useful for prototyping and developement at smaller scales - but would need to be modified when moving to production. Luckily for us, this modification is trivial!\n",
        "\n",
        "> NOTE: While LangChain uses the terminology \"VectorStore\" (also known as a Vector Library), Qdrant is a \"Vector Database\" - more info. on that [here](https://weaviate.io/blog/vector-library-vs-vector-database)."
      ]
    },
    {
      "cell_type": "code",
      "execution_count": 23,
      "metadata": {
        "id": "EqSFeTNVhHRH"
      },
      "outputs": [],
      "source": [
        "from langchain_qdrant import QdrantVectorStore\n",
        "from qdrant_client import QdrantClient\n",
        "from qdrant_client.http.models import Distance, VectorParams\n",
        "\n",
        "client = QdrantClient(\":memory:\")"
      ]
    },
    {
      "cell_type": "markdown",
      "metadata": {
        "id": "Ax_Oz0P0mz8i"
      },
      "source": [
        "Next, we need to create a collection - a collection is a specific...collection of vectors within the Qdrant client.\n",
        "\n",
        "These are useful as they allow us to create multiple different \"warehouses\" in a single client, which can be leveraged for personalization and more!\n",
        "\n",
        "Also notice that we define what our vector shapes are (embedding dim) as well as our desired distance metric."
      ]
    },
    {
      "cell_type": "code",
      "execution_count": 24,
      "metadata": {
        "colab": {
          "base_uri": "https://localhost:8080/"
        },
        "id": "urH-37OYh6Ca",
        "outputId": "f1866617-a63f-4eac-d7af-49f1b9ccebb8"
      },
      "outputs": [
        {
          "data": {
            "text/plain": [
              "True"
            ]
          },
          "execution_count": 24,
          "metadata": {},
          "output_type": "execute_result"
        }
      ],
      "source": [
        "client.create_collection(\n",
        "    collection_name=\"lcel_doc_v1\",\n",
        "    vectors_config=VectorParams(size=embedding_dim, distance=Distance.COSINE),\n",
        ")"
      ]
    },
    {
      "cell_type": "markdown",
      "metadata": {
        "id": "XCqGyuDp-4gQ"
      },
      "source": [
        "Now we can assemble our vector database! Notice that we provide our client, our created collection, and our embedding model!"
      ]
    },
    {
      "cell_type": "code",
      "execution_count": 25,
      "metadata": {
        "id": "pGDWp-xA-26d"
      },
      "outputs": [],
      "source": [
        "vector_store = QdrantVectorStore(\n",
        "    client=client,\n",
        "    collection_name=\"lcel_doc_v1\",\n",
        "    embedding=embedding_model,\n",
        ")"
      ]
    },
    {
      "cell_type": "markdown",
      "metadata": {
        "id": "Z0hX7erW-S1f"
      },
      "source": [
        "Now that we have our vector database set-up"
      ]
    },
    {
      "cell_type": "code",
      "execution_count": 26,
      "metadata": {
        "id": "_-qHPtPh-SYb"
      },
      "outputs": [],
      "source": [
        "_ = vector_store.add_texts(texts=chunks)"
      ]
    },
    {
      "cell_type": "markdown",
      "metadata": {
        "id": "UPJexL1kuw45"
      },
      "source": [
        "### Creating a Retriever\n",
        "\n",
        "Now that we have an idea of how we're getting our most relevant information - let's see how we could create a pipeline that would automatically extract the closest chunk to our query and use it as context for our prompt!\n",
        "\n",
        "This will involve a popular LangChain interace known as `as_retriever`!\n",
        "\n",
        "> NOTE: We can still specify how many documents we wish to retrieve per vector."
      ]
    },
    {
      "cell_type": "code",
      "execution_count": 27,
      "metadata": {
        "id": "tnLpo26pu8-1"
      },
      "outputs": [],
      "source": [
        "retriever = vector_store.as_retriever(search_kwargs={\"k\": 2})"
      ]
    },
    {
      "cell_type": "markdown",
      "metadata": {
        "id": "2Y4CZ4tKBSeA"
      },
      "source": [
        "## Bringing it All Together\n",
        "\n",
        "Now that we have our Retriever, our promt Augmentation, and our Generator - we're ready to create a simple RAG chain using LCEL!\n",
        "\n",
        "This chain does the following things:\n",
        "\n",
        "1. It takes in some `str` and passes it to two different LCEL Runnables:\n",
        "  - `retriever`, which takes the string and calls `retrieve` on it - passing the output (formatted as a list) to the `dict` under the key `context`\n",
        "  - `RunnablePassthrough()` which simply propogates the `str` to the `dict` under the key `query`.\n",
        "2. It chains the `dict` to format the `chat_prompt` which expects both a `query` and `context`\n",
        "3. It chains the resulting message to the LLM, and calls it - returning a full response\n",
        "4. That response is chained to the `StrOutputParser()` which converts the response blob into a `str` containing the content of the response!"
      ]
    },
    {
      "cell_type": "code",
      "execution_count": 28,
      "metadata": {
        "id": "Pi8sgqhsBeV_"
      },
      "outputs": [],
      "source": [
        "from langchain_core.runnables import RunnablePassthrough\n",
        "from langchain_core.output_parsers import StrOutputParser\n",
        "\n",
        "simple_rag  = (\n",
        "    {\"context\": retriever, \"query\": RunnablePassthrough()}\n",
        "    | chat_prompt\n",
        "    | openai_chat_model\n",
        "    | StrOutputParser()\n",
        ")"
      ]
    },
    {
      "cell_type": "code",
      "execution_count": 41,
      "metadata": {
        "colab": {
          "base_uri": "https://localhost:8080/",
          "height": 70
        },
        "id": "XpY2CiSGBiGX",
        "outputId": "810727f7-843a-4c49-867b-9067fdbda4d2"
      },
      "outputs": [
        {
          "data": {
            "text/plain": [
              "'LCEL makes it more reliable at scale by allowing for graceful error handling through fallbacks, which is important given the non-determinism of LLMs. Additionally, it supports parallelism for components that can be run concurrently, which is beneficial for managing long API calls typical in LLM applications. This capability to run components in parallel enhances the reliability and efficiency of the overall process.'"
            ]
          },
          "execution_count": 41,
          "metadata": {},
          "output_type": "execute_result"
        }
      ],
      "source": [
        "simple_rag.invoke(\"What does LCEL do that makes it more reliable at scale?\")"
      ]
    },
    {
      "cell_type": "markdown",
      "metadata": {
        "id": "cD2URVX3O3XJ"
      },
      "source": [
        "#### ❓ Question #3:\n",
        "\n",
        "What does LCEL do that makes it more reliable at scale?\n",
        "\n",
        "> HINT: Use your newly created `simple_rag` to help you answer this question!\n",
        "\n",
        "#### ANSWER\n",
        "'LCEL makes it more reliable at scale by allowing for graceful error handling through fallbacks, which is important given the non-determinism of LLMs. Additionally, it supports parallelism for components that can be run concurrently, which is beneficial for managing long API calls typical in LLM applications. This capability to run components in parallel enhances the reliability and efficiency of the overall process.'\n",
        "> HINT : I used simple rag :) \n",
        "\n",
        "To add it also allows to define fallback runnables in case a primary one fails or conditionaly route based on intermediate or any output."
      ]
    },
    {
      "cell_type": "markdown",
      "metadata": {
        "id": "QTsujAkpRWpJ"
      },
      "source": [
        "### A Note On Runnables\n",
        "\n",
        "# Understanding LangChain Runnables and LCEL\n",
        "\n",
        "In LangChain, a Runnable is like a LEGO brick in your AI application - it's a standardized component that can be easily connected with other components. The real power of Runnables comes from their ability to be combined in flexible ways using LCEL (LangChain Expression Language).\n",
        "\n",
        "## Key Features of Runnables\n",
        "\n",
        "### 1. Universal Interface\n",
        "Every Runnable in LangChain follows the same pattern:\n",
        "- Takes an input\n",
        "- Performs some operation\n",
        "- Returns an output\n",
        "\n",
        "This consistency means you can treat different components (like models, retrievers, or parsers) in the same way.\n",
        "\n",
        "### 2. Built-in Parallelization\n",
        "Runnables come with methods for handling multiple inputs efficiently:\n",
        "```python\n",
        "# Process inputs in parallel, maintain order\n",
        "results = chain.batch([input1, input2, input3])\n",
        "\n",
        "# Process inputs as they complete\n",
        "for result in chain.batch_as_completed([input1, input2, input3]):\n",
        "    print(result)\n",
        "```\n",
        "\n",
        "### 3. Streaming Support\n",
        "Perfect for responsive applications:\n",
        "```python\n",
        "# Stream outputs as they're generated\n",
        "for chunk in chain.stream({\"query\": \"Tell me a story\"}):\n",
        "    print(chunk, end=\"\", flush=True)\n",
        "```\n",
        "\n",
        "### 4. Easy Composition\n",
        "The `|` operator makes building pipelines intuitive:\n",
        "```python\n",
        "# Create a basic RAG chain\n",
        "rag_chain = retriever | prompt | model | output_parser\n",
        "```\n",
        "\n",
        "## Common Types of Runnables\n",
        "\n",
        "- **Language Models**: Like our `ChatOpenAI` instance\n",
        "- **Prompt Templates**: Format inputs consistently\n",
        "- **Retrievers**: Get relevant context from a vector store\n",
        "- **Output Parsers**: Structure model outputs\n",
        "- **LangGraph Nodes**: Individual components in our graph\n",
        "\n",
        "Think of Runnables as the building blocks of your LLM application. Just like how you can combine LEGO bricks in countless ways, you can mix and match Runnables to create increasingly sophisticated applications!\n",
        "\n"
      ]
    },
    {
      "cell_type": "markdown",
      "metadata": {
        "id": "IIbX3_htQGlS"
      },
      "source": [
        "# 🤝 Breakout Room #2"
      ]
    },
    {
      "cell_type": "markdown",
      "metadata": {
        "id": "kaVlJiilDzwM"
      },
      "source": [
        "## LangGraph Based RAG\n",
        "\n",
        "Now that we have a reasonable grasp of LCEL and the idea of Runnables - let's see how we can use LangGraph to build the same system!"
      ]
    },
    {
      "cell_type": "markdown",
      "metadata": {
        "id": "I77-NKo1EowG"
      },
      "source": [
        "### Primer: What is LangGraph?\n",
        "LangGraph is a tool that leverages LangChain Expression Language to build coordinated multi-actor and stateful applications that includes cyclic behaviour.\n",
        "\n",
        "#### Why Cycles?\n",
        "In essence, we can think of a cycle in our graph as a more robust and customizable loop. It allows us to keep our application agent-forward while still giving the powerful functionality of traditional loops.\n",
        "\n",
        "Due to the inclusion of cycles over loops, we can also compose rather complex flows through our graph in a much more readable and natural fashion. Effectively allowing us to recreate application flowcharts in code in an almost 1-to-1 fashion.\n",
        "\n",
        "#### Why LangGraph?\n",
        "Beyond the agent-forward approach - we can easily compose and combine traditional \"DAG\" (directed acyclic graph) chains with powerful cyclic behaviour due to the tight integration with LCEL. This means it's a natural extension to LangChain's core offerings!\n",
        "\n",
        "> NOTE: We're going to focus on building a simple DAG for today's assignment as an introduction to LangGraph"
      ]
    },
    {
      "cell_type": "code",
      "execution_count": 46,
      "metadata": {
        "id": "VJy-ASfAFRRE"
      },
      "outputs": [],
      "source": [
        "#!pip install -qU langgraph"
      ]
    },
    {
      "cell_type": "markdown",
      "metadata": {
        "id": "kfLCnMXNE_Qc"
      },
      "source": [
        "### Putting the State in Stateful\n",
        "\n",
        "Earlier we used this phrasing:\n",
        "\n",
        "> coordinated multi-actor and stateful applications\n",
        "\n",
        "So what does that \"stateful\" mean?\n",
        "\n",
        "To put it simply - we want to have some kind of object which we can pass around our application that holds information about what the current situation (state) is. Since our system will be constructed of many parts moving in a coordinated fashion - we want to be able to ensure we have some commonly understood idea of that state.\n",
        "\n",
        "LangGraph leverages a `StatefulGraph` which uses an `AgentState` object to pass information between the various nodes of the graph.\n",
        "\n",
        "There are more options than what we'll see below - but this `AgentState` object is one that is stored in a `TypedDict` with the key `messages` and the value is a `Sequence` of `BaseMessages` that will be appended to whenever the state changes.\n",
        "\n",
        "However, in our example here, we're focusing on a simpler `State` object:\n",
        "\n",
        "```python\n",
        "class State(TypedDict):\n",
        "    question: str\n",
        "    context: list[Document]\n",
        "    response: str\n",
        "```\n",
        "\n",
        "Let's think about a simple example to help understand exactly what this means (we'll simplify a great deal to try and clearly communicate what state is doing):\n",
        "\n",
        "1. **We initialize our state object**:\n",
        "   ```python\n",
        "   {\n",
        "       \"question\": \"\",\n",
        "       \"context\": [],\n",
        "       \"response\": \"\"\n",
        "   }\n",
        "   ```\n",
        "\n",
        "2. **Our user submits a query to our application.**  \n",
        "   We store the user's question in `state[\"question\"]`. Now we have:\n",
        "   ```python\n",
        "   {\n",
        "       \"question\": \"How tall is the Eiffel Tower?\",\n",
        "       \"context\": [],\n",
        "       \"response\": \"\"\n",
        "   }\n",
        "   ```\n",
        "\n",
        "3. **We pass our state object to an Agent node** which is able to read the current state. It will use the value of `state[\"question\"]` as input and might retrieve some context documents related to the question. It then generates a response which it stores in `state[\"response\"]`. For example:\n",
        "   ```python\n",
        "   {\n",
        "       \"question\": \"How tall is the Eiffel Tower?\",\n",
        "       \"context\": [Document(page_content=\"...some data...\")],\n",
        "       \"response\": \"The Eiffel Tower is about 324 meters tall...\"\n",
        "   }\n",
        "   ```\n",
        "\n",
        "That's it! The important part is that we have a consistent object (`State`) that's passed around, holding the crucial information as we go from one node to the next. This ensures our application has a single source of truth about what has happened so far and what is happening now.\n",
        "\n"
      ]
    },
    {
      "cell_type": "code",
      "execution_count": 30,
      "metadata": {
        "id": "kxczzsfVFNWT"
      },
      "outputs": [],
      "source": [
        "from langgraph.graph import START, StateGraph\n",
        "from typing_extensions import TypedDict\n",
        "from langchain_core.documents import Document\n",
        "\n",
        "class State(TypedDict):\n",
        "  question: str\n",
        "  context: list[Document]\n",
        "  response: str"
      ]
    },
    {
      "cell_type": "markdown",
      "metadata": {
        "id": "6l6xFY0_HoXG"
      },
      "source": [
        "Now that we have state, and we have tools, and we have an LLM - we can finally start making our graph!\n",
        "\n",
        "Let's take a second to refresh ourselves about what a graph is in this context.\n",
        "\n",
        "Graphs, also called networks in some circles, are a collection of connected objects.\n",
        "\n",
        "The objects in question are typically called nodes, or vertices, and the connections are called edges.\n",
        "\n",
        "Let's look at a simple graph.\n",
        "\n",
        "![image](https://i.imgur.com/2NFLnIc.png)\n",
        "\n",
        "Here, we're using the coloured circles to represent the nodes and the yellow lines to represent the edges. In this case, we're looking at a fully connected graph - where each node is connected by an edge to each other node.\n",
        "\n",
        "If we were to think about nodes in the context of LangGraph - we would think of a function, or an LCEL Runnable.\n",
        "\n",
        "If we were to think about edges in the context of LangGraph - we might think of them as \"paths to take\" or \"where to pass our state object next\".  "
      ]
    },
    {
      "cell_type": "markdown",
      "metadata": {
        "id": "keL9O1drInw1"
      },
      "source": [
        "### Building Nodes\n",
        "\n",
        "We're going to need two nodes:\n",
        "\n",
        "A node for retrieval, and a node for generation.\n",
        "\n",
        "Let's start with our `retrieve` node!\n",
        "\n",
        "Notice how we do not need to update the state object in the node, but can instead return a modification directly to our state."
      ]
    },
    {
      "cell_type": "code",
      "execution_count": 31,
      "metadata": {
        "id": "05qhncktIwK_"
      },
      "outputs": [],
      "source": [
        "def retrieve(state: State) -> State:\n",
        "  retrieved_docs = retriever.invoke(state[\"question\"])\n",
        "  return {\"context\" : retrieved_docs}"
      ]
    },
    {
      "cell_type": "markdown",
      "metadata": {
        "id": "_gZktSLAJL5Z"
      },
      "source": [
        "Next, let's create our `generate` node - which will leverage some LCEL!"
      ]
    },
    {
      "cell_type": "code",
      "execution_count": 32,
      "metadata": {
        "id": "XiL2isC8JS0l"
      },
      "outputs": [],
      "source": [
        "def generate(state: State) -> State:\n",
        "  generation_chain = chat_prompt | openai_chat_model | StrOutputParser()\n",
        "  response = generation_chain.invoke({\"query\" : state[\"question\"], \"context\" : state[\"context\"]})\n",
        "  return {\"response\" : response}"
      ]
    },
    {
      "cell_type": "markdown",
      "metadata": {
        "id": "_ZtriMEcJxeR"
      },
      "source": [
        "Now we can start defining our graph!\n",
        "\n",
        "Think of the graph's state as a blank canvas that we can add nodes and edges to.\n",
        "\n",
        "Every graph starts with two special nodes - START and END - the act as the entry and exit point to the other nodes in the graphs.  \n",
        "\n",
        "All valid graphs must start at the START node and end at the END node."
      ]
    },
    {
      "cell_type": "code",
      "execution_count": 33,
      "metadata": {
        "id": "ia9IWM9AJ4bx"
      },
      "outputs": [],
      "source": [
        "# Start with the blank canvas\n",
        "graph_builder = StateGraph(State)"
      ]
    },
    {
      "cell_type": "markdown",
      "metadata": {
        "id": "8kro8bQEL2Yj"
      },
      "source": [
        "Now we can add a sequence to our \"canvas\" (graph) - this can be done by providing a list of nodes, the will automatically have edges that connect the i-th element to the i+1-th element in the list. The final element will be added to the END node unless otherwise specified."
      ]
    },
    {
      "cell_type": "code",
      "execution_count": 34,
      "metadata": {
        "id": "OSfDMlXUL2kh"
      },
      "outputs": [],
      "source": [
        "graph_builder = graph_builder.add_sequence([retrieve, generate])"
      ]
    },
    {
      "cell_type": "markdown",
      "metadata": {
        "id": "g79NZf5VL4en"
      },
      "source": [
        "Next, let's connect our START node to our `retrieve` node by adding an edge."
      ]
    },
    {
      "cell_type": "code",
      "execution_count": 35,
      "metadata": {
        "id": "w1kTJKGNL4qA"
      },
      "outputs": [
        {
          "data": {
            "text/plain": [
              "<langgraph.graph.state.StateGraph at 0x11ae802c0>"
            ]
          },
          "execution_count": 35,
          "metadata": {},
          "output_type": "execute_result"
        }
      ],
      "source": [
        "graph_builder.add_edge(START, \"retrieve\")"
      ]
    },
    {
      "cell_type": "markdown",
      "metadata": {
        "id": "5EiVyt8-L6_5"
      },
      "source": [
        "Finally we can compile our graph! This will do basic verification to ensure that the Runnables have the correct inputs/outputs and can be matched."
      ]
    },
    {
      "cell_type": "code",
      "execution_count": 36,
      "metadata": {
        "id": "TM4My6geL7FW"
      },
      "outputs": [],
      "source": [
        "graph = graph_builder.compile()"
      ]
    },
    {
      "cell_type": "markdown",
      "metadata": {
        "id": "fNvoQcfCP3xI"
      },
      "source": [
        "Finally, we can visualize our graph!"
      ]
    },
    {
      "cell_type": "code",
      "execution_count": 37,
      "metadata": {},
      "outputs": [
        {
          "data": {
            "image/png": "[encoded data removed]",
            "text/plain": [
              "<langgraph.graph.state.CompiledStateGraph object at 0x11ae23ce0>"
            ]
          },
          "execution_count": 37,
          "metadata": {},
          "output_type": "execute_result"
        }
      ],
      "source": [
        "graph"
      ]
    },
    {
      "cell_type": "markdown",
      "metadata": {
        "id": "sBRCjvvyP8DA"
      },
      "source": [
        "Let's take it for a spin!\n",
        "\n",
        "We invoke our graph like we do any other Runnable in LCEL!\n",
        "\n",
        "> NOTE: That's right, even a compiled graph is a Runnable!"
      ]
    },
    {
      "cell_type": "code",
      "execution_count": 38,
      "metadata": {
        "colab": {
          "base_uri": "https://localhost:8080/",
          "height": 105
        },
        "id": "mSbsRLurKOKd",
        "outputId": "114185f3-4b98-4c66-96cd-65f4e4e3ef1d"
      },
      "outputs": [
        {
          "data": {
            "text/plain": [
              "'LangChain Expression Language (LCEL) is a declarative method for composing chains together, offering several benefits over traditional coding approaches. Specifically, LCEL allows for automatic support for synchronous, asynchronous, batch, and streaming operations, making it easy to prototype in environments like Jupyter notebooks and then transition to async streaming interfaces. Additionally, LCEL facilitates error handling through fallbacks, which is crucial given the non-determinism of language model outputs. It also supports parallelism, allowing components that can be executed concurrently to run in parallel, which is beneficial for managing long API calls in LLM applications.'"
            ]
          },
          "execution_count": 38,
          "metadata": {},
          "output_type": "execute_result"
        }
      ],
      "source": [
        "response = graph.invoke({\"question\" : \"How does LCEL work?\"})\n",
        "response[\"response\"]"
      ]
    },
    {
      "cell_type": "code",
      "execution_count": 39,
      "metadata": {},
      "outputs": [
        {
          "data": {
            "text/plain": [
              "{'question': 'How does LCEL work?',\n",
              " 'context': [Document(metadata={'_id': 'd847d5349da34e838b9fa126b11b878d', '_collection_name': 'lcel_doc_v1'}, page_content='LangChain Expression Language or LCEL is a declarative way to easily compose chains together. There are several benefits to writing chains in this manner (as opposed to writing normal code):\\n\\nAsync, Batch, and Streaming Support Any chain constructed this way will automatically have full sync, async, batch, and streaming support. This makes it easy to prototype a chain in a Jupyter notebook using the sync interface, and then expose it as an async streaming interface.'),\n",
              "  Document(metadata={'_id': 'ae00aa12280b40da828ce0d01e45e281', '_collection_name': 'lcel_doc_v1'}, page_content='Fallbacks The non-determinism of LLMs makes it important to be able to handle errors gracefully. With LCEL you can easily attach fallbacks to any chain.\\n\\nParallelism Since LLM applications involve (sometimes long) API calls, it often becomes important to run things in parallel. With LCEL syntax, any components that can be run in parallel automatically are.')],\n",
              " 'response': 'LangChain Expression Language (LCEL) is a declarative method for composing chains together, offering several benefits over traditional coding approaches. Specifically, LCEL allows for automatic support for synchronous, asynchronous, batch, and streaming operations, making it easy to prototype in environments like Jupyter notebooks and then transition to async streaming interfaces. Additionally, LCEL facilitates error handling through fallbacks, which is crucial given the non-determinism of language model outputs. It also supports parallelism, allowing components that can be executed concurrently to run in parallel, which is beneficial for managing long API calls in LLM applications.'}"
            ]
          },
          "execution_count": 39,
          "metadata": {},
          "output_type": "execute_result"
        }
      ],
      "source": [
        "response"
      ]
    },
    {
      "cell_type": "code",
      "execution_count": 40,
      "metadata": {
        "colab": {
          "base_uri": "https://localhost:8080/",
          "height": 35
        },
        "id": "a_jEmE_rKwED",
        "outputId": "c5fac807-2a24-4cf9-8cca-105def13e3d8"
      },
      "outputs": [
        {
          "data": {
            "text/plain": [
              "\"I don't know\""
            ]
          },
          "execution_count": 40,
          "metadata": {},
          "output_type": "execute_result"
        }
      ],
      "source": [
        "response = graph.invoke({\"question\" : \"Who is Batman?\"})\n",
        "response[\"response\"]"
      ]
    },
    {
      "cell_type": "code",
      "execution_count": null,
      "metadata": {},
      "outputs": [],
      "source": []
    },
    {
      "cell_type": "markdown",
      "metadata": {
        "id": "E_LRYXvvRjOp"
      },
      "source": [
        "#### ❓ Question #4:\n",
        "LangGraph's graph-based approach lets us visualize and manage complex flows naturally. How could we extend our current implementation to handle edge cases? For example:\n",
        "- What if the retriever finds no relevant context?  \n",
        "- What if the response needs fact-checking?\n",
        "Consider how you would modify the graph to handle these scenarios."
      ]
    },
    {
      "cell_type": "markdown",
      "metadata": {},
      "source": [
        "loop and score  terminate "
      ]
    },
    {
      "cell_type": "code",
      "execution_count": 69,
      "metadata": {},
      "outputs": [],
      "source": [
        "from langgraph.graph import START, END, StateGraph\n",
        "from typing_extensions import TypedDict\n",
        "from langchain_core.documents import Document\n",
        "\n",
        "class State(TypedDict):\n",
        "  question: str\n",
        "  context: list[Document]\n",
        "  response: str\n",
        "\n",
        "def check_context_relevance(state: State) -> dict:\n",
        "    # If no documents were returned at all\n",
        "    if not state[\"context\"] or len(state[\"context\"]) == 0:\n",
        "        return {\"branch\": \"no_context\"}\n",
        "    \n",
        "    # Check if the context is actually relevant to the question\n",
        "    question = state[\"question\"]\n",
        "    context_text = \" \".join([doc.page_content for doc in state[\"context\"]])\n",
        "    \n",
        "    # Use the embedding model to check relevance between question and context\n",
        "    relevance_prompt = ChatPromptTemplate.from_messages([\n",
        "        (\"system\", \"You are a relevance detector. Your job is to determine if the provided context contains information related to the question.\"),\n",
        "        (\"human\", \"Question: {question}\\nContext: {context}\\nIs this context relevant to answering this question? Answer with ONLY 'relevant' or 'not_relevant'.\")\n",
        "    ])\n",
        "    \n",
        "    relevance_chain = relevance_prompt | openai_chat_model | StrOutputParser()\n",
        "    relevance_result = relevance_chain.invoke({\n",
        "        \"question\": question,\n",
        "        \"context\": context_text\n",
        "    })\n",
        "    \n",
        "    if \"relevant\" in relevance_result.lower():\n",
        "        return {\"branch\": \"has_context\"}\n",
        "    else:\n",
        "        return {\"branch\": \"no_context\"}\n",
        "\n",
        "# A fallback node to handle when no context is found\n",
        "def handle_no_context(state: State) -> State:\n",
        "    response = \"I don't have enough relevant information to answer this question. Could you please rephrase or ask something related to LangChain or LCEL?\"\n",
        "    return {\"response\": response}\n",
        "\n",
        "\n",
        "def generate(state: State) -> State:\n",
        "    question = state[\"question\"]\n",
        "    context_docs = state[\"context\"]\n",
        "    \n",
        "    # Convert context documents to text\n",
        "    context_text = \" \".join([doc.page_content for doc in context_docs])\n",
        "    \n",
        "    # Create a prompt that handles irrelevant questions better\n",
        "    enhanced_prompt = ChatPromptTemplate.from_messages([\n",
        "        (\"system\", \"You are a helpful assistant specialized in LangChain and LCEL. If the question can be answered using the provided context, provide a detailed response. If the context doesn't contain information relevant to the question, politely explain that you don't have that information.\"),\n",
        "        (\"human\", \"Question: {query}\\nContext: {context}\\n\\nProvide a helpful response based on the context.\")\n",
        "    ])\n",
        "    \n",
        "    generation_chain = enhanced_prompt | openai_chat_model | StrOutputParser()\n",
        "    response = generation_chain.invoke({\n",
        "        \"query\": question, \n",
        "        \"context\": context_text\n",
        "    })\n",
        "    \n",
        "    return {\"response\": response}\n",
        "\n",
        "# Now let's rebuild our graph with this logic\n",
        "graph_builder = StateGraph(State)\n",
        "\n",
        "# Add nodes\n",
        "graph_builder.add_node(\"retrieve\", retrieve)\n",
        "graph_builder.add_node(\"check_relevance\", check_context_relevance)\n",
        "graph_builder.add_node(\"generate\", generate)\n",
        "graph_builder.add_node(\"handle_no_context\", handle_no_context)\n",
        "\n",
        "# Add edges\n",
        "graph_builder.add_edge(START, \"retrieve\")\n",
        "graph_builder.add_edge(\"retrieve\", \"check_relevance\")\n",
        "\n",
        "# Router setup for conditional branches\n",
        "graph_builder.add_conditional_edges(\n",
        "    \"check_relevance\",\n",
        "    lambda x: x[\"branch\"],  # This extracts the branch key from the output\n",
        "    {\n",
        "        \"has_context\": \"generate\",\n",
        "        \"no_context\": \"handle_no_context\"\n",
        "    }\n",
        ")\n",
        "graph_builder.add_edge(\"generate\", END)\n",
        "graph_builder.add_edge(\"handle_no_context\", END)\n",
        "\n",
        "# Compile the graph\n",
        "graph = graph_builder.compile()"
      ]
    },
    {
      "cell_type": "code",
      "execution_count": 70,
      "metadata": {},
      "outputs": [
        {
          "data": {
            "text/plain": [
              "Graph(nodes={'__start__': Node(id='__start__', name='__start__', data=<class 'langchain_core.utils.pydantic.LangGraphInput'>, metadata=None), 'retrieve': Node(id='retrieve', name='retrieve', data=retrieve(tags=None, recurse=True, explode_args=False, func_accepts_config=False, func_accepts={'writer': False, 'store': False, 'previous': False}), metadata=None), 'check_relevance': Node(id='check_relevance', name='check_relevance', data=check_relevance(tags=None, recurse=True, explode_args=False, func_accepts_config=False, func_accepts={'writer': False, 'store': False, 'previous': False}), metadata=None), 'generate': Node(id='generate', name='generate', data=generate(tags=None, recurse=True, explode_args=False, func_accepts_config=False, func_accepts={'writer': False, 'store': False, 'previous': False}), metadata=None), 'handle_no_context': Node(id='handle_no_context', name='handle_no_context', data=handle_no_context(tags=None, recurse=True, explode_args=False, func_accepts_config=False, func_accepts={'writer': False, 'store': False, 'previous': False}), metadata=None), '__end__': Node(id='__end__', name='__end__', data=<class 'langchain_core.utils.pydantic.LangGraphOutput'>, metadata=None)}, edges=[Edge(source='__start__', target='retrieve', data=None, conditional=False), Edge(source='generate', target='__end__', data=None, conditional=False), Edge(source='handle_no_context', target='__end__', data=None, conditional=False), Edge(source='retrieve', target='check_relevance', data=None, conditional=False), Edge(source='check_relevance', target='generate', data='has_context', conditional=True), Edge(source='check_relevance', target='handle_no_context', data='no_context', conditional=True)])"
            ]
          },
          "execution_count": 70,
          "metadata": {},
          "output_type": "execute_result"
        }
      ],
      "source": [
        "graph.get_graph()"
      ]
    },
    {
      "cell_type": "code",
      "execution_count": 93,
      "metadata": {},
      "outputs": [],
      "source": [
        "def draw_graph(graph,output_file_png):\n",
        "    try:\n",
        "        # Get the graph representation\n",
        "        graph_representation = graph.get_graph()\n",
        "\n",
        "        # Draw and save to a PNG file\n",
        "        # output_file_png = \"my_compiled_graph.png\"\n",
        "        graph_representation.draw_png(output_file_path=output_file_png)\n",
        "        print(f\"Graph visualization saved to {output_file_png}\")\n",
        "        # Optional: If you are in a Jupyter Notebook/Lab, you can display it directly\n",
        "        # from IPython.display import Image\n",
        "        # display(Image(graph_representation.draw_png()))\n",
        "    except ImportError:\n",
        "        print(\"Install pygraphviz or pydot and Graphviz to draw PNGs.\")\n",
        "        print(\"pip install pygraphviz\")\n",
        "        print(\"Then ensure Graphviz is installed system-wide (e.g., 'brew install graphviz' or 'sudo apt install graphviz').\")\n",
        "    except Exception as e:\n",
        "        print(f\"An error occurred during PNG generation: {e}\")"
      ]
    },
    {
      "cell_type": "code",
      "execution_count": 94,
      "metadata": {},
      "outputs": [
        {
          "name": "stdout",
          "output_type": "stream",
          "text": [
            "Graph visualization saved to my_compiled_graph.png\n"
          ]
        }
      ],
      "source": [
        "draw_graph(graph,\"my_compiled_graph.png\")"
      ]
    },
    {
      "cell_type": "markdown",
      "metadata": {},
      "source": [
        "![Alt text](./my_compiled_graph.png)"
      ]
    },
    {
      "cell_type": "markdown",
      "metadata": {},
      "source": [
        "### Answer (Friendly response when no context)\n"
      ]
    },
    {
      "cell_type": "code",
      "execution_count": 73,
      "metadata": {},
      "outputs": [
        {
          "name": "stdout",
          "output_type": "stream",
          "text": [
            "LCEL, or LangChain Expression Language, is a declarative framework designed to simplify the process of composing chains in LangChain applications. It offers several advantages over traditional coding methods. Here are the key features and benefits:\n",
            "\n",
            "1. **Async, Batch, and Streaming Support**: Chains created using LCEL automatically support synchronous, asynchronous, batch processing, and streaming functionality. This flexibility allows developers to prototype their chains in a Jupyter notebook with synchronous operations and later deploy them with asynchronous streaming capabilities.\n",
            "\n",
            "2. **Fallbacks**: Given the non-deterministic nature of large language models (LLMs), it's crucial to handle errors effectively. LCEL enables developers to easily integrate fallback mechanisms into any chain, ensuring that the application can gracefully manage unexpected issues.\n",
            "\n",
            "3. **Parallelism**: LLM applications often involve making lengthy API calls, which can benefit from concurrent execution. LCEL's syntax allows components that are eligible for parallel execution to run simultaneously, improving efficiency and reducing wait times.\n",
            "\n",
            "Overall, LCEL provides an efficient and flexible way to build and manage chains in a LangChain environment, enhancing both development and operational capabilities.\n",
            "********************************************************************************************************************************************************************************************************\n",
            "I'm sorry, but the context provided does not contain information about who Batman is. Batman is a fictional superhero appearing in American comic books published by DC Comics, created by artist Bob Kane and writer Bill Finger. If you would like more details about Batman, feel free to ask!\n"
          ]
        }
      ],
      "source": [
        "response = graph.invoke({\"question\": \"What is LCEL?\"})\n",
        "print(response[\"response\"])\n",
        "print(\"**\"*100)\n",
        "# Try with a question not in the context\n",
        "response = graph.invoke({\"question\": \"Who is Batman?\"})\n",
        "print(response[\"response\"])"
      ]
    },
    {
      "cell_type": "markdown",
      "metadata": {},
      "source": [
        "### Answer Adding Fact Check"
      ]
    },
    {
      "cell_type": "code",
      "execution_count": 80,
      "metadata": {},
      "outputs": [],
      "source": [
        "# Let's add a fact-checking node\n",
        "def fact_check(state: State) -> dict:\n",
        "    # Here we check if the response is factually accurate based on the context\n",
        "    question = state[\"question\"]\n",
        "    response = state[\"response\"] \n",
        "    context_docs = state[\"context\"]\n",
        "    \n",
        "    # Convert context documents to text\n",
        "    context_text = \" \".join([doc.page_content for doc in context_docs])\n",
        "    \n",
        "    # Using the LLM to verify if the response is supported by the context\n",
        "    verification_prompt = ChatPromptTemplate.from_messages([\n",
        "        (\"system\", \"You are a fact-checking assistant. Your job is to verify if the response is supported by the provided context.\"),\n",
        "        (\"human\", \"Question: {question}\\nResponse: {response}\\nContext: {context}\\nIs the response factually consistent with the context? Reply ONLY with either 'verified' or 'needs_correction'.\")\n",
        "    ])\n",
        "    \n",
        "    verification_chain = verification_prompt | openai_chat_model | StrOutputParser()\n",
        "    result = verification_chain.invoke({\n",
        "        \"question\": question,\n",
        "        \"response\": response,\n",
        "        \"context\": context_text\n",
        "    })\n",
        "    \n",
        "    # Return the appropriate next step based on verification\n",
        "    if \"verified\" in result.lower():\n",
        "        return {\"branch\": \"factual\"}\n",
        "    else:\n",
        "        return {\"branch\": \"needs_correction\"}\n",
        "\n",
        "# Function to correct responses that are not factual\n",
        "def correct_response(state: State) -> State:\n",
        "    question = state[\"question\"]\n",
        "    original_response = state[\"response\"]\n",
        "    context_docs = state[\"context\"]\n",
        "    \n",
        "    # Convert context documents to text\n",
        "    context_text = \" \".join([doc.page_content for doc in context_docs])\n",
        "    \n",
        "    correction_prompt = ChatPromptTemplate.from_messages([\n",
        "        (\"system\", \"You are a fact-checking assistant. Your job is to correct responses to ensure they are factually consistent with the provided context.\"),\n",
        "        (\"human\", \"Question: {question}\\nOriginal Response: {response}\\nContext: {context}\\n\\nPlease provide a corrected response that is factually consistent with the context.\")\n",
        "    ])\n",
        "    \n",
        "    correction_chain = correction_prompt | openai_chat_model | StrOutputParser()\n",
        "    corrected_response = correction_chain.invoke({\n",
        "        \"question\": question,\n",
        "        \"response\": original_response,\n",
        "        \"context\": context_text\n",
        "    })\n",
        "    \n",
        "    return {\"response\": corrected_response}\n",
        "\n",
        "# Now let's rebuild our graph with both features\n",
        "graph_builder = StateGraph(State)\n",
        "\n",
        "# Add nodes\n",
        "graph_builder.add_node(\"retrieve\", retrieve)\n",
        "graph_builder.add_node(\"check_relevance\", check_context_relevance)\n",
        "graph_builder.add_node(\"generate\", generate)\n",
        "graph_builder.add_node(\"handle_no_context\", handle_no_context)\n",
        "graph_builder.add_node(\"fact_check\", fact_check)\n",
        "graph_builder.add_node(\"correct_response\", correct_response)\n",
        "\n",
        "# Add edges\n",
        "graph_builder.add_edge(START, \"retrieve\")\n",
        "graph_builder.add_edge(\"retrieve\", \"check_relevance\")\n",
        "\n",
        "graph_builder.add_conditional_edges(\n",
        "    \"check_relevance\",\n",
        "    lambda x: x[\"branch\"],\n",
        "    {\n",
        "        \"has_context\": \"generate\",\n",
        "        \"no_context\": \"handle_no_context\"\n",
        "    }\n",
        ")\n",
        "graph_builder.add_edge(\"generate\", \"fact_check\")\n",
        "\n",
        "graph_builder.add_conditional_edges(\n",
        "    \"fact_check\",\n",
        "    lambda x: x[\"branch\"],\n",
        "    {\n",
        "        \"factual\": END,\n",
        "        \"needs_correction\": \"correct_response\"\n",
        "    }\n",
        ")\n",
        "graph_builder.add_edge(\"correct_response\", END)\n",
        "graph_builder.add_edge(\"handle_no_context\", END)\n",
        "\n",
        "# Compile the graph\n",
        "graph = graph_builder.compile()"
      ]
    },
    {
      "cell_type": "code",
      "execution_count": 84,
      "metadata": {},
      "outputs": [
        {
          "name": "stdout",
          "output_type": "stream",
          "text": [
            "Graph visualization saved to fact_check_graph.png\n"
          ]
        }
      ],
      "source": [
        "draw_graph(graph,\"fact_check_graph.png\")"
      ]
    },
    {
      "cell_type": "markdown",
      "metadata": {},
      "source": [
        "![Alt text](./fact_check_graph.png)\n"
      ]
    },
    {
      "cell_type": "code",
      "execution_count": 85,
      "metadata": {},
      "outputs": [
        {
          "name": "stdout",
          "output_type": "stream",
          "text": [
            "TESTING FACTUAL QUESTION:\n",
            "LCEL (LangChain Expression Language) provides robust capabilities for parallel execution, which is crucial for optimizing performance in LLM (Large Language Model) applications. Here are the key features related to parallel execution supported by LCEL:\n",
            "\n",
            "1. **Automatic Parallel Execution**: LCEL syntax is designed to automatically run any components that can be executed in parallel. This means you can leverage the ability to handle multiple API calls simultaneously, improving the overall efficiency and speed of your applications.\n",
            "\n",
            "2. **Support for Asynchronous Operations**: The chains built using LCEL support asynchronous execution. This allows for non-blocking API calls, meaning that while one component is processing, others can run concurrently without waiting for each to complete.\n",
            "\n",
            "3. **Batch Processing**: LCEL facilitates batch execution, which is useful when you need to process a large set of inputs at once. This capability not only saves time but also optimizes resource utilization.\n",
            "\n",
            "4. **Streaming Support**: In addition to synchronous and asynchronous operations, LCEL provides streaming support. This is particularly beneficial for applications that require handling data in real-time or streaming contexts, allowing for continuous processing of data as it arrives.\n",
            "\n",
            "In summary, LCEL enhances the parallel execution capabilities of your chains by automatically handling parallelism, supporting async and batch processing, and providing streaming options, which altogether streamline the development and performance of LLM applications.\n",
            "\n",
            "--------------------------------------------------\n",
            "\n",
            "TESTING AMBIGUOUS QUESTION:\n",
            "The provided context does not include information regarding the release date of LangChain Expression Language (LCEL) or its current version. Therefore, I'm unable to provide specific details about when LCEL was released or its latest version. If you have access to additional resources or documentation, I recommend checking there for the most accurate information.\n",
            "\n",
            "--------------------------------------------------\n",
            "\n",
            "TESTING HALLUCINATION-PRONE QUESTION:\n",
            "The provided context describes the LangChain Expression Language (LCEL) and its features, but it does not include any information about Microsoft's FLAME framework. Therefore, I cannot directly compare LCEL to FLAME or provide insights regarding FLAME's capabilities or characteristics. If you have specific questions about LCEL or other topics not related to FLAME, feel free to ask!\n"
          ]
        }
      ],
      "source": [
        "# Test with questions likely to produce different fact-check outcomes\n",
        "\n",
        "# 1. Question well-covered by context (should be factual):\n",
        "factual_question = \"What capabilities does LCEL provide for parallel execution?\"\n",
        "\n",
        "# 2. Question partially covered but potentially confusing (might need correction):\n",
        "ambiguous_question = \"When was LCEL released and what version is it on now?\"\n",
        "\n",
        "# 3. Question that might lead to hallucination (should need correction):\n",
        "hallucination_question = \"How does LCEL compare to Microsoft's FLAME framework?\"\n",
        "\n",
        "# Run tests with each type of question\n",
        "print(\"TESTING FACTUAL QUESTION:\")\n",
        "result1 = graph.invoke({\"question\": factual_question})\n",
        "print(result1[\"response\"])\n",
        "print(\"\\n\" + \"-\"*50 + \"\\n\")\n",
        "\n",
        "print(\"TESTING AMBIGUOUS QUESTION:\")\n",
        "result2 = graph.invoke({\"question\": ambiguous_question})\n",
        "print(result2[\"response\"])\n",
        "print(\"\\n\" + \"-\"*50 + \"\\n\")\n",
        "\n",
        "print(\"TESTING HALLUCINATION-PRONE QUESTION:\")\n",
        "result3 = graph.invoke({\"question\": hallucination_question})\n",
        "print(result3[\"response\"])"
      ]
    },
    {
      "cell_type": "markdown",
      "metadata": {},
      "source": [
        "### Testing correction flow"
      ]
    },
    {
      "cell_type": "code",
      "execution_count": 91,
      "metadata": {},
      "outputs": [
        {
          "name": "stdout",
          "output_type": "stream",
          "text": [
            "FACTUAL TEST RESULT:\n",
            "LCEL, or LangChain Expression Language, is a declarative framework designed to facilitate the composition of chains in a streamlined manner. It offers several notable benefits:\n",
            "\n",
            "1. **Async, Batch, and Streaming Support**: Chains defined using LCEL inherently support synchronous, asynchronous, batching, and streaming operations. This flexibility allows developers to prototype chains in an interactive environment like Jupyter notebooks, utilizing a synchronous interface, and later transition to an asynchronous and streaming model without significant rework.\n",
            "\n",
            "2. **Fallbacks**: Given the non-deterministic nature of large language models (LLMs), it's critical to design applications that can gracefully manage errors. LCEL enables users to easily integrate fallback mechanisms into any chain, ensuring that the application can handle failures more effectively and maintain functionality.\n",
            "\n",
            "3. **Parallelism**: In applications that utilize LLMs, there are often lengthy API calls involved. LCEL's design allows components that can operate concurrently to do so automatically, enhancing the efficiency and performance of the application by leveraging parallel processing.\n",
            "\n",
            "In summary, LCEL provides a powerful, flexible, and efficient way to develop chains for LLM applications, making it easier to build robust and responsive systems.\n",
            "\n",
            "--------------------------------------------------\n",
            "\n",
            "CORRECTION TEST RESULT:\n",
            "Corrected Response: LCEL (LangChain Expression Language) is a declarative way to easily compose chains together for applications involving large language models (LLMs). It was developed to enhance the process of integrating various components in LLM applications. LCEL provides several benefits, including:\n",
            "\n",
            "1. **Async, Batch, and Streaming Support**: Any chain constructed using LCEL automatically has full synchronous, asynchronous, batch, and streaming support. This facilitates prototyping in environments like Jupyter notebooks using a synchronous interface, which can then be exposed as an asynchronous streaming interface.\n",
            "\n",
            "2. **Fallbacks**: Given the non-determinism of LLMs, LCEL allows for graceful error handling by attaching fallback mechanisms to any chain.\n",
            "\n",
            "3. **Parallelism**: Since LLM applications often involve lengthy API calls, LCEL syntax allows for components that can be executed in parallel to be run concurrently, thus improving efficiency and performance.\n"
          ]
        }
      ],
      "source": [
        "# 1. Test the factual flow - a question that should give a factual response\n",
        "factual_test = graph.invoke({\"question\": \"What is LCEL and what benefits does it provide?\"})\n",
        "print(\"FACTUAL TEST RESULT:\")\n",
        "print(factual_test[\"response\"])\n",
        "print(\"\\n\" + \"-\"*50 + \"\\n\")\n",
        "\n",
        "# 2. Test the correction flow by forcing an incorrect response\n",
        "def generate_with_error(state: State) -> State:\n",
        "    \"\"\"This function deliberately generates an incorrect response to trigger fact-checking\"\"\"\n",
        "    return {\"response\": \"LCEL (LangChain Expression Language) is a programming language created in 2010 that focuses on blockchain and cryptocurrency applications. It has no support for asynchronous operations.\"}\n",
        "\n",
        "# Create a modified graph for testing correction\n",
        "correction_test_builder = StateGraph(State)\n",
        "correction_test_builder.add_node(\"retrieve\", retrieve)\n",
        "correction_test_builder.add_node(\"generate_with_error\", generate_with_error)\n",
        "correction_test_builder.add_node(\"fact_check\", fact_check)\n",
        "correction_test_builder.add_node(\"correct_response\", correct_response)\n",
        "\n",
        "correction_test_builder.add_edge(START, \"retrieve\")\n",
        "correction_test_builder.add_edge(\"retrieve\", \"generate_with_error\")\n",
        "correction_test_builder.add_edge(\"generate_with_error\", \"fact_check\")\n",
        "correction_test_builder.add_conditional_edges(\n",
        "    \"fact_check\",\n",
        "    lambda x: x[\"branch\"],\n",
        "    {\n",
        "        \"factual\": END,\n",
        "        \"needs_correction\": \"correct_response\"\n",
        "    }\n",
        ")\n",
        "correction_test_builder.add_edge(\"correct_response\", END)\n",
        "\n",
        "correction_test_graph = correction_test_builder.compile()\n",
        "\n",
        "# Run the correction test\n",
        "correction_result = correction_test_graph.invoke({\"question\": \"What is LCEL and what benefits does it provide?\"})\n",
        "print(\"CORRECTION TEST RESULT:\")\n",
        "print(correction_result[\"response\"])"
      ]
    },
    {
      "cell_type": "code",
      "execution_count": 92,
      "metadata": {},
      "outputs": [
        {
          "name": "stdout",
          "output_type": "stream",
          "text": [
            "Graph visualization saved to correction_test_graph.png\n"
          ]
        }
      ],
      "source": [
        "draw_graph(correction_test_graph,\"correction_test_graph.png\")"
      ]
    },
    {
      "cell_type": "markdown",
      "metadata": {},
      "source": [
        "![ALT](./correction_test_graph.png)"
      ]
    },
    {
      "cell_type": "code",
      "execution_count": null,
      "metadata": {},
      "outputs": [],
      "source": []
    }
  ],
  "metadata": {
    "accelerator": "GPU",
    "colab": {
      "gpuType": "T4",
      "machine_shape": "hm",
      "provenance": [],
      "toc_visible": true
    },
    "kernelspec": {
      "display_name": ".venv",
      "language": "python",
      "name": "python3"
    },
    "language_info": {
      "codemirror_mode": {
        "name": "ipython",
        "version": 3
      },
      "file_extension": ".py",
      "mimetype": "text/x-python",
      "name": "python",
      "nbconvert_exporter": "python",
      "pygments_lexer": "ipython3",
      "version": "3.12.8"
    }
  },
  "nbformat": 4,
  "nbformat_minor": 0
}
